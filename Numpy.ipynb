{
 "cells": [
  {
   "cell_type": "code",
   "execution_count": null,
   "id": "9f6afbd1",
   "metadata": {},
   "outputs": [],
   "source": [
    "# import numpy as np\n",
    "# 1 D array\n",
    "arr = np.array([1,2,3,4,5])\n",
    "print(arr)\n",
    "print(type(arr))\n",
    "\n",
    "# zero D array \n",
    "arr1 = np.array(42)\n",
    "print(arr1)\n",
    "\n",
    "# 2 D array \n",
    "arr2 = np.array([[1,2,3,4],[5,6,7,8]])\n",
    "print(arr2)\n",
    "print(\"-------------\")\n",
    "# 3 D array\n",
    "arr3 = np.array([[[1,2,3],[4,5,6]],[[1,2,3],[4,5,6]]])\n",
    "print(arr3)"
   ]
  },
  {
   "cell_type": "code",
   "execution_count": 8,
   "id": "73b853ff",
   "metadata": {},
   "outputs": [
    {
     "name": "stdout",
     "output_type": "stream",
     "text": [
      "0\n",
      "1\n",
      "5\n"
     ]
    }
   ],
   "source": [
    "# checking the dimention \n",
    "\n",
    "arr = np.array(42)\n",
    "arr1 = np.array([1,2,3,4,5])\n",
    "\n",
    "print(arr.ndim)\n",
    "print(arr1.ndim)\n",
    "\n",
    "# defining the Dimentions \n",
    "\n",
    "arr2 = np.array([1,2,3,4,5], ndmin = 5)\n",
    "print(arr2.ndim)"
   ]
  },
  {
   "cell_type": "code",
   "execution_count": 11,
   "id": "40bde1d5",
   "metadata": {},
   "outputs": [
    {
     "name": "stdout",
     "output_type": "stream",
     "text": [
      "2\n",
      "3\n",
      "5\n"
     ]
    }
   ],
   "source": [
    "#Accessing array\n",
    "#1D\n",
    "\n",
    "arr1 = np.array([1,2,3,4])\n",
    "print(arr1[1])\n",
    "\n",
    "#2D array \n",
    "\n",
    "arr2 = np.array([[1,2,3],[4,5,6]])\n",
    "print(arr2[0,2])\n",
    "\n",
    "#3D array\n",
    "\n",
    "arr3 = np.array([[[1,2,3],[4,5,6]],[[1,2,3],[4,5,6]]])\n",
    "print(arr3[0,1,1])"
   ]
  },
  {
   "cell_type": "code",
   "execution_count": 13,
   "id": "80361e92",
   "metadata": {},
   "outputs": [
    {
     "name": "stdout",
     "output_type": "stream",
     "text": [
      "[2 3 4]\n",
      "[6 7]\n"
     ]
    }
   ],
   "source": [
    "#array slicing \n",
    "\n",
    "arr = np.array([1,2,3,4,5])\n",
    "arr1 = arr[1:4]\n",
    "print(arr1)\n",
    "\n",
    "#slicing 2 D array \n",
    "\n",
    "arr2 = np.array([[1,2,3,4],[5,6,7,8]])\n",
    "arr3 = arr2[1, 1:3]\n",
    "print(arr3)"
   ]
  },
  {
   "cell_type": "code",
   "execution_count": 14,
   "id": "f6bb0053",
   "metadata": {},
   "outputs": [
    {
     "name": "stdout",
     "output_type": "stream",
     "text": [
      "int32\n"
     ]
    }
   ],
   "source": [
    "# Checking the Data type of array element \n",
    "arr = np.array([1,2,3,4,5])\n",
    "print(arr.dtype)"
   ]
  },
  {
   "cell_type": "code",
   "execution_count": 17,
   "id": "b21014f3",
   "metadata": {},
   "outputs": [
    {
     "name": "stdout",
     "output_type": "stream",
     "text": [
      "int32\n"
     ]
    }
   ],
   "source": [
    "#Creating array with defined data type\n",
    "arr = np.array([1,2,3,4], dtype = 'i4')\n",
    "print(arr.dtype)"
   ]
  },
  {
   "cell_type": "code",
   "execution_count": 20,
   "id": "d97baeaf",
   "metadata": {},
   "outputs": [
    {
     "name": "stdout",
     "output_type": "stream",
     "text": [
      "int32\n",
      "|S11\n",
      "[b'1' b'2' b'3' b'4' b'5']\n"
     ]
    }
   ],
   "source": [
    "# Converrting Data Type for existing array \n",
    "''' To do this we can use methon named astype() this creates a copy of existing array and allow to use new data type '''\n",
    "\n",
    "arr = np.array([1,2,3,4,5])\n",
    "print(arr.dtype)\n",
    "\n",
    "arr1 = arr.astype('S')\n",
    "print(arr1.dtype)\n",
    "print(arr1)"
   ]
  },
  {
   "cell_type": "code",
   "execution_count": 21,
   "id": "8af49c6c",
   "metadata": {},
   "outputs": [
    {
     "name": "stdout",
     "output_type": "stream",
     "text": [
      "int32\n",
      "bool\n",
      "[ True  True False False  True  True]\n"
     ]
    }
   ],
   "source": [
    "# changig array to boolean \n",
    "\n",
    "arr = np.array([1,2,0,0,1,3])\n",
    "print(arr.dtype)\n",
    "\n",
    "arr1 = arr.astype(bool)\n",
    "print(arr1.dtype)\n",
    "print(arr1)"
   ]
  },
  {
   "cell_type": "code",
   "execution_count": 22,
   "id": "75d36ba6",
   "metadata": {},
   "outputs": [
    {
     "name": "stdout",
     "output_type": "stream",
     "text": [
      "[23  2  3  4  5]\n",
      "[1 2 3 4 5]\n"
     ]
    }
   ],
   "source": [
    "# Difference Between copy and view \n",
    "''' The main difference between a copy and a view of an array is that the copy is a new array, and the view is just a view of the original array.\n",
    "\n",
    "The copy owns the data and any changes made to the copy will not affect original array, and any changes made to the original array will not affect the copy.\n",
    "\n",
    "The view does not own the data and any changes made to the view will affect the original array, and any changes made to the original array will affect the view.'''\n",
    "\n",
    "# COPY \n",
    "\n",
    "arr = np.array([1,2,3,4,5])\n",
    "x = arr.copy()\n",
    "arr[0]=23\n",
    "\n",
    "print(arr)\n",
    "print(x)\n",
    "\n",
    "\n"
   ]
  },
  {
   "cell_type": "code",
   "execution_count": null,
   "id": "5a677cfb",
   "metadata": {},
   "outputs": [],
   "source": []
  }
 ],
 "metadata": {
  "kernelspec": {
   "display_name": "Python 3",
   "language": "python",
   "name": "python3"
  },
  "language_info": {
   "codemirror_mode": {
    "name": "ipython",
    "version": 3
   },
   "file_extension": ".py",
   "mimetype": "text/x-python",
   "name": "python",
   "nbconvert_exporter": "python",
   "pygments_lexer": "ipython3",
   "version": "3.8.8"
  }
 },
 "nbformat": 4,
 "nbformat_minor": 5
}
